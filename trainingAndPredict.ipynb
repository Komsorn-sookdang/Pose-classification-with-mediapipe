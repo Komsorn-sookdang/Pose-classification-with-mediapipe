{
 "cells": [
  {
   "cell_type": "code",
   "execution_count": 34,
   "metadata": {},
   "outputs": [],
   "source": [
    "import numpy as np\n",
    "import pandas as pd"
   ]
  },
  {
   "cell_type": "code",
   "execution_count": 35,
   "metadata": {},
   "outputs": [],
   "source": [
    "import tensorflow as tf\n",
    "from tensorflow import keras\n",
    "from sklearn.model_selection import train_test_split\n",
    "from sklearn.metrics import accuracy_score, classification_report, confusion_matrix"
   ]
  },
  {
   "cell_type": "code",
   "execution_count": 54,
   "metadata": {},
   "outputs": [],
   "source": [
    "import itertools\n",
    "import cv2\n",
    "import matplotlib.pyplot as plt\n",
    "import mediapipe"
   ]
  },
  {
   "cell_type": "code",
   "execution_count": 37,
   "metadata": {},
   "outputs": [],
   "source": [
    "def load_pose_landmarks(csv_path):\n",
    "  # Load the CSV file\n",
    "  dataframe = pd.read_csv('data_set_v2.csv')\n",
    "  df_to_process = dataframe.copy()\n",
    "\n",
    "  # Drop the file_name columns as you don't need it during training.\n",
    "  # df_to_process.drop(columns=['file_name'], inplace=True)\n",
    "\n",
    "  # Extract the list of class names\n",
    "  classes = df_to_process.pop('class_name').unique()\n",
    "\n",
    "  # Extract the labels\n",
    "  y = df_to_process.pop('class_no')\n",
    "\n",
    "  # Convert the input features and labels into the correct format for training.\n",
    "  X = df_to_process.astype('float64')\n",
    "  y = keras.utils.to_categorical(y)\n",
    "\n",
    "  return X, y, classes, dataframe"
   ]
  },
  {
   "cell_type": "code",
   "execution_count": 39,
   "metadata": {},
   "outputs": [],
   "source": [
    "X, y, class_names, _ = load_pose_landmarks('data_set_v2.csv')\n",
    "X_train, X_val, y_train, y_val = train_test_split(X, y, test_size=0.15)"
   ]
  },
  {
   "cell_type": "code",
   "execution_count": 45,
   "metadata": {},
   "outputs": [],
   "source": [
    "X_test, y_test, _, df_test = load_pose_landmarks('data_set_v2.csv')"
   ]
  },
  {
   "cell_type": "code",
   "execution_count": 48,
   "metadata": {},
   "outputs": [
    {
     "name": "stdout",
     "output_type": "stream",
     "text": [
      "Model: \"model\"\n",
      "_________________________________________________________________\n",
      " Layer (type)                Output Shape              Param #   \n",
      "=================================================================\n",
      " input_3 (InputLayer)        [(None, 132)]             0         \n",
      "                                                                 \n",
      " dense (Dense)               (None, 128)               17024     \n",
      "                                                                 \n",
      " dropout (Dropout)           (None, 128)               0         \n",
      "                                                                 \n",
      " dense_1 (Dense)             (None, 64)                8256      \n",
      "                                                                 \n",
      " dropout_1 (Dropout)         (None, 64)                0         \n",
      "                                                                 \n",
      " dense_2 (Dense)             (None, 3)                 195       \n",
      "                                                                 \n",
      "=================================================================\n",
      "Total params: 25,475\n",
      "Trainable params: 25,475\n",
      "Non-trainable params: 0\n",
      "_________________________________________________________________\n"
     ]
    }
   ],
   "source": [
    "inputs = tf.keras.Input(shape=(132))\n",
    "\n",
    "layer = keras.layers.Dense(128, activation=tf.nn.relu6)(inputs)\n",
    "layer = keras.layers.Dropout(0.5)(layer)\n",
    "layer = keras.layers.Dense(64, activation=tf.nn.relu6)(layer)\n",
    "layer = keras.layers.Dropout(0.5)(layer)\n",
    "outputs = keras.layers.Dense(len(class_names), activation=\"softmax\")(layer)\n",
    "\n",
    "model = keras.Model(inputs, outputs)\n",
    "model.summary()"
   ]
  },
  {
   "cell_type": "code",
   "execution_count": 49,
   "metadata": {},
   "outputs": [],
   "source": [
    "model.compile(\n",
    "    optimizer='adam',\n",
    "    loss='categorical_crossentropy',\n",
    "    metrics=['accuracy']\n",
    ")"
   ]
  },
  {
   "cell_type": "code",
   "execution_count": 50,
   "metadata": {},
   "outputs": [],
   "source": [
    "# Add a checkpoint callback to store the checkpoint that has the highest\n",
    "# validation accuracy.\n",
    "checkpoint_path = \"weights.best.hdf5\"\n",
    "checkpoint = keras.callbacks.ModelCheckpoint(checkpoint_path,\n",
    "                             monitor='val_accuracy',\n",
    "                             verbose=1,\n",
    "                             save_best_only=True,\n",
    "                             mode='max')\n",
    "earlystopping = keras.callbacks.EarlyStopping(monitor='val_accuracy', \n",
    "                                              patience=20)"
   ]
  },
  {
   "cell_type": "code",
   "execution_count": 51,
   "metadata": {},
   "outputs": [
    {
     "name": "stdout",
     "output_type": "stream",
     "text": [
      "Epoch 1/200\n",
      "38/58 [==================>...........] - ETA: 0s - loss: 1.0453 - accuracy: 0.4852 \n",
      "Epoch 1: val_accuracy improved from -inf to 0.82927, saving model to weights.best.hdf5\n",
      "58/58 [==============================] - 1s 5ms/step - loss: 0.9552 - accuracy: 0.5460 - val_loss: 0.5470 - val_accuracy: 0.8293\n",
      "Epoch 2/200\n",
      "52/58 [=========================>....] - ETA: 0s - loss: 0.5730 - accuracy: 0.7945\n",
      "Epoch 2: val_accuracy improved from 0.82927 to 0.96951, saving model to weights.best.hdf5\n",
      "58/58 [==============================] - 0s 3ms/step - loss: 0.5660 - accuracy: 0.7974 - val_loss: 0.2760 - val_accuracy: 0.9695\n",
      "Epoch 3/200\n",
      "57/58 [============================>.] - ETA: 0s - loss: 0.3730 - accuracy: 0.8750\n",
      "Epoch 3: val_accuracy improved from 0.96951 to 1.00000, saving model to weights.best.hdf5\n",
      "58/58 [==============================] - 0s 3ms/step - loss: 0.3712 - accuracy: 0.8754 - val_loss: 0.1281 - val_accuracy: 1.0000\n",
      "Epoch 4/200\n",
      "32/58 [===============>..............] - ETA: 0s - loss: 0.2555 - accuracy: 0.9277\n",
      "Epoch 4: val_accuracy did not improve from 1.00000\n",
      "58/58 [==============================] - 0s 2ms/step - loss: 0.2173 - accuracy: 0.9426 - val_loss: 0.0434 - val_accuracy: 1.0000\n",
      "Epoch 5/200\n",
      "33/58 [================>.............] - ETA: 0s - loss: 0.1567 - accuracy: 0.9678\n",
      "Epoch 5: val_accuracy did not improve from 1.00000\n",
      "58/58 [==============================] - 0s 2ms/step - loss: 0.1295 - accuracy: 0.9751 - val_loss: 0.0188 - val_accuracy: 1.0000\n",
      "Epoch 6/200\n",
      "39/58 [===================>..........] - ETA: 0s - loss: 0.0836 - accuracy: 0.9808\n",
      "Epoch 6: val_accuracy did not improve from 1.00000\n",
      "58/58 [==============================] - 0s 2ms/step - loss: 0.0782 - accuracy: 0.9816 - val_loss: 0.0093 - val_accuracy: 1.0000\n",
      "Epoch 7/200\n",
      "36/58 [=================>............] - ETA: 0s - loss: 0.0563 - accuracy: 0.9913\n",
      "Epoch 7: val_accuracy did not improve from 1.00000\n",
      "58/58 [==============================] - 0s 2ms/step - loss: 0.0549 - accuracy: 0.9892 - val_loss: 0.0043 - val_accuracy: 1.0000\n",
      "Epoch 8/200\n",
      "30/58 [==============>...............] - ETA: 0s - loss: 0.0497 - accuracy: 0.9896\n",
      "Epoch 8: val_accuracy did not improve from 1.00000\n",
      "58/58 [==============================] - 0s 2ms/step - loss: 0.0504 - accuracy: 0.9892 - val_loss: 0.0034 - val_accuracy: 1.0000\n",
      "Epoch 9/200\n",
      "38/58 [==================>...........] - ETA: 0s - loss: 0.0348 - accuracy: 0.9934\n",
      "Epoch 9: val_accuracy did not improve from 1.00000\n",
      "58/58 [==============================] - 0s 2ms/step - loss: 0.0314 - accuracy: 0.9957 - val_loss: 0.0015 - val_accuracy: 1.0000\n",
      "Epoch 10/200\n",
      "27/58 [============>.................] - ETA: 0s - loss: 0.0327 - accuracy: 0.9931\n",
      "Epoch 10: val_accuracy did not improve from 1.00000\n",
      "58/58 [==============================] - 0s 2ms/step - loss: 0.0291 - accuracy: 0.9946 - val_loss: 0.0010 - val_accuracy: 1.0000\n",
      "Epoch 11/200\n",
      "38/58 [==================>...........] - ETA: 0s - loss: 0.0186 - accuracy: 0.9967\n",
      "Epoch 11: val_accuracy did not improve from 1.00000\n",
      "58/58 [==============================] - 0s 2ms/step - loss: 0.0204 - accuracy: 0.9946 - val_loss: 0.0019 - val_accuracy: 1.0000\n",
      "Epoch 12/200\n",
      "38/58 [==================>...........] - ETA: 0s - loss: 0.0251 - accuracy: 0.9934\n",
      "Epoch 12: val_accuracy did not improve from 1.00000\n",
      "58/58 [==============================] - 0s 2ms/step - loss: 0.0216 - accuracy: 0.9957 - val_loss: 4.1479e-04 - val_accuracy: 1.0000\n",
      "Epoch 13/200\n",
      "30/58 [==============>...............] - ETA: 0s - loss: 0.0127 - accuracy: 0.9979\n",
      "Epoch 13: val_accuracy did not improve from 1.00000\n",
      "58/58 [==============================] - 0s 2ms/step - loss: 0.0133 - accuracy: 0.9978 - val_loss: 6.1400e-04 - val_accuracy: 1.0000\n",
      "Epoch 14/200\n",
      "52/58 [=========================>....] - ETA: 0s - loss: 0.0170 - accuracy: 0.9952\n",
      "Epoch 14: val_accuracy did not improve from 1.00000\n",
      "58/58 [==============================] - 0s 3ms/step - loss: 0.0170 - accuracy: 0.9957 - val_loss: 3.1981e-04 - val_accuracy: 1.0000\n",
      "Epoch 15/200\n",
      "57/58 [============================>.] - ETA: 0s - loss: 0.0090 - accuracy: 0.9989\n",
      "Epoch 15: val_accuracy did not improve from 1.00000\n",
      "58/58 [==============================] - 0s 3ms/step - loss: 0.0090 - accuracy: 0.9989 - val_loss: 2.5763e-04 - val_accuracy: 1.0000\n",
      "Epoch 16/200\n",
      "54/58 [==========================>...] - ETA: 0s - loss: 0.0063 - accuracy: 1.0000\n",
      "Epoch 16: val_accuracy did not improve from 1.00000\n",
      "58/58 [==============================] - 0s 4ms/step - loss: 0.0062 - accuracy: 1.0000 - val_loss: 1.1585e-04 - val_accuracy: 1.0000\n",
      "Epoch 17/200\n",
      "25/58 [===========>..................] - ETA: 0s - loss: 0.0062 - accuracy: 1.0000\n",
      "Epoch 17: val_accuracy did not improve from 1.00000\n",
      "58/58 [==============================] - 0s 2ms/step - loss: 0.0065 - accuracy: 1.0000 - val_loss: 1.3941e-04 - val_accuracy: 1.0000\n",
      "Epoch 18/200\n",
      "37/58 [==================>...........] - ETA: 0s - loss: 0.0104 - accuracy: 0.9949\n",
      "Epoch 18: val_accuracy did not improve from 1.00000\n",
      "58/58 [==============================] - 0s 2ms/step - loss: 0.0125 - accuracy: 0.9946 - val_loss: 4.7435e-04 - val_accuracy: 1.0000\n",
      "Epoch 19/200\n",
      "37/58 [==================>...........] - ETA: 0s - loss: 0.0071 - accuracy: 1.0000\n",
      "Epoch 19: val_accuracy did not improve from 1.00000\n",
      "58/58 [==============================] - 0s 2ms/step - loss: 0.0077 - accuracy: 0.9989 - val_loss: 1.2685e-04 - val_accuracy: 1.0000\n",
      "Epoch 20/200\n",
      "35/58 [=================>............] - ETA: 0s - loss: 0.0039 - accuracy: 1.0000\n",
      "Epoch 20: val_accuracy did not improve from 1.00000\n",
      "58/58 [==============================] - 0s 2ms/step - loss: 0.0038 - accuracy: 1.0000 - val_loss: 1.6029e-04 - val_accuracy: 1.0000\n",
      "Epoch 21/200\n",
      "38/58 [==================>...........] - ETA: 0s - loss: 0.0111 - accuracy: 0.9967\n",
      "Epoch 21: val_accuracy did not improve from 1.00000\n",
      "58/58 [==============================] - 0s 2ms/step - loss: 0.0097 - accuracy: 0.9978 - val_loss: 8.0840e-05 - val_accuracy: 1.0000\n",
      "Epoch 22/200\n",
      "29/58 [==============>...............] - ETA: 0s - loss: 0.0045 - accuracy: 1.0000\n",
      "Epoch 22: val_accuracy did not improve from 1.00000\n",
      "58/58 [==============================] - 0s 2ms/step - loss: 0.0065 - accuracy: 0.9989 - val_loss: 8.7733e-05 - val_accuracy: 1.0000\n",
      "Epoch 23/200\n",
      "35/58 [=================>............] - ETA: 0s - loss: 0.0056 - accuracy: 1.0000\n",
      "Epoch 23: val_accuracy did not improve from 1.00000\n",
      "58/58 [==============================] - 0s 2ms/step - loss: 0.0051 - accuracy: 1.0000 - val_loss: 3.3104e-05 - val_accuracy: 1.0000\n"
     ]
    }
   ],
   "source": [
    "# Start training\n",
    "history = model.fit(X_train, y_train,\n",
    "                    epochs=200,\n",
    "                    batch_size=16,\n",
    "                    validation_data=(X_val, y_val),\n",
    "                    callbacks=[checkpoint, earlystopping])"
   ]
  },
  {
   "cell_type": "code",
   "execution_count": 52,
   "metadata": {},
   "outputs": [
    {
     "data": {
      "image/png": "[encoded data removed]",
      "text/plain": [
       "<Figure size 432x288 with 1 Axes>"
      ]
     },
     "metadata": {
      "needs_background": "light"
     },
     "output_type": "display_data"
    }
   ],
   "source": [
    "# Visualize the training history to see whether you're overfitting.\n",
    "plt.plot(history.history['accuracy'])\n",
    "plt.plot(history.history['val_accuracy'])\n",
    "plt.title('Model accuracy')\n",
    "plt.ylabel('accuracy')\n",
    "plt.xlabel('epoch')\n",
    "plt.legend(['TRAIN', 'VAL'], loc='lower right')\n",
    "plt.show()"
   ]
  },
  {
   "cell_type": "code",
   "execution_count": 53,
   "metadata": {},
   "outputs": [
    {
     "name": "stdout",
     "output_type": "stream",
     "text": [
      "34/34 [==============================] - 0s 2ms/step - loss: 6.3413e-05 - accuracy: 1.0000\n"
     ]
    }
   ],
   "source": [
    "# Evaluate the model using the TEST dataset\n",
    "loss, accuracy = model.evaluate(X_test, y_test)"
   ]
  },
  {
   "cell_type": "code",
   "execution_count": 55,
   "metadata": {},
   "outputs": [],
   "source": [
    "def plot_confusion_matrix(cm, classes,\n",
    "                          normalize=False,\n",
    "                          title='Confusion matrix',\n",
    "                          cmap=plt.cm.Blues):\n",
    "  \"\"\"Plots the confusion matrix.\"\"\"\n",
    "  if normalize:\n",
    "    cm = cm.astype('float') / cm.sum(axis=1)[:, np.newaxis]\n",
    "    print(\"Normalized confusion matrix\")\n",
    "  else:\n",
    "    print('Confusion matrix, without normalization')\n",
    "\n",
    "  plt.imshow(cm, interpolation='nearest', cmap=cmap)\n",
    "  plt.title(title)\n",
    "  plt.colorbar()\n",
    "  tick_marks = np.arange(len(classes))\n",
    "  plt.xticks(tick_marks, classes, rotation=55)\n",
    "  plt.yticks(tick_marks, classes)\n",
    "  fmt = '.2f' if normalize else 'd'\n",
    "  thresh = cm.max() / 2.\n",
    "  for i, j in itertools.product(range(cm.shape[0]), range(cm.shape[1])):\n",
    "    plt.text(j, i, format(cm[i, j], fmt),\n",
    "              horizontalalignment=\"center\",\n",
    "              color=\"white\" if cm[i, j] > thresh else \"black\")\n",
    "\n",
    "  plt.ylabel('True label')\n",
    "  plt.xlabel('Predicted label')\n",
    "  plt.tight_layout()"
   ]
  },
  {
   "cell_type": "code",
   "execution_count": 56,
   "metadata": {},
   "outputs": [
    {
     "name": "stdout",
     "output_type": "stream",
     "text": [
      "Confusion matrix, without normalization\n",
      "\n",
      "Classification Report:\n",
      "               precision    recall  f1-score   support\n",
      "\n",
      "      h-pose       1.00      1.00      1.00       338\n",
      "    standing       1.00      1.00      1.00       234\n",
      "      t-pose       1.00      1.00      1.00       515\n",
      "\n",
      "    accuracy                           1.00      1087\n",
      "   macro avg       1.00      1.00      1.00      1087\n",
      "weighted avg       1.00      1.00      1.00      1087\n",
      "\n"
     ]
    },
    {
     "data": {
      "image/png": "[encoded data removed]",
      "text/plain": [
       "<Figure size 432x288 with 2 Axes>"
      ]
     },
     "metadata": {
      "needs_background": "light"
     },
     "output_type": "display_data"
    }
   ],
   "source": [
    "# Classify pose in the TEST dataset using the trained model\n",
    "y_pred = model.predict(X_test)\n",
    "\n",
    "# Convert the prediction result to class name\n",
    "y_pred_label = [class_names[i] for i in np.argmax(y_pred, axis=1)]\n",
    "y_true_label = [class_names[i] for i in np.argmax(y_test, axis=1)]\n",
    "\n",
    "# Plot the confusion matrix\n",
    "cm = confusion_matrix(np.argmax(y_test, axis=1), np.argmax(y_pred, axis=1))\n",
    "plot_confusion_matrix(cm,\n",
    "                      class_names,\n",
    "                      title ='Confusion Matrix of Pose Classification Model')\n",
    "\n",
    "# Print the classification report\n",
    "print('\\nClassification Report:\\n', classification_report(y_true_label,\n",
    "                                                          y_pred_label))"
   ]
  },
  {
   "cell_type": "code",
   "execution_count": 77,
   "metadata": {},
   "outputs": [
    {
     "name": "stdout",
     "output_type": "stream",
     "text": [
      "standing\n"
     ]
    }
   ],
   "source": [
    "print(class_names[np.argmax(model.predict(X_test.iloc[:1, :]), axis=1)][0])"
   ]
  },
  {
   "cell_type": "code",
   "execution_count": null,
   "metadata": {},
   "outputs": [],
   "source": []
  }
 ],
 "metadata": {
  "interpreter": {
   "hash": "0f4263bf14374db64ae80163e133fae3bad8ebca62fc80aabd03995c80c7c029"
  },
  "kernelspec": {
   "display_name": "Python 3.9.12 64-bit (windows store)",
   "language": "python",
   "name": "python3"
  },
  "language_info": {
   "codemirror_mode": {
    "name": "ipython",
    "version": 3
   },
   "file_extension": ".py",
   "mimetype": "text/x-python",
   "name": "python",
   "nbconvert_exporter": "python",
   "pygments_lexer": "ipython3",
   "version": "3.9.12"
  },
  "orig_nbformat": 4
 },
 "nbformat": 4,
 "nbformat_minor": 2
}
